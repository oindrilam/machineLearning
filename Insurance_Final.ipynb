{
 "cells": [
  {
   "cell_type": "code",
   "execution_count": 95,
   "id": "e6d3d117",
   "metadata": {},
   "outputs": [],
   "source": [
    "import numpy as np  \n",
    "import pandas as pd\n",
    "import seaborn as sns\n",
    "import scipy.stats\n",
    "from sklearn.preprocessing import LabelEncoder\n",
    "from sklearn import tree\n",
    "from sklearn.tree import DecisionTreeClassifier\n",
    "from sklearn.model_selection import train_test_split \n",
    "from sklearn.metrics import accuracy_score\n",
    "import matplotlib.pyplot as plt  \n",
    "from sklearn.tree import export_graphviz\n",
    "import pydotplus\n",
    "from IPython.display import Image\n",
    "import itertools\n",
    "from matplotlib.ticker import NullFormatter\n",
    "import matplotlib.ticker as ticker\n",
    "from sklearn import preprocessing\n",
    "%matplotlib inline"
   ]
  },
  {
   "cell_type": "code",
   "execution_count": 96,
   "id": "5beecdf5",
   "metadata": {},
   "outputs": [],
   "source": [
    "#Stop showing warning messages\n",
    "import warnings\n",
    "warnings.simplefilter('ignore')"
   ]
  },
  {
   "cell_type": "code",
   "execution_count": 97,
   "id": "e9f07e25",
   "metadata": {},
   "outputs": [],
   "source": [
    "df = pd.read_excel(\"E:/SEM2/1.SUBJECTS/BRM/demo_ins.xlsx\",index_col=0)\n",
    "insurance=df"
   ]
  },
  {
   "cell_type": "code",
   "execution_count": 98,
   "id": "949d5c73",
   "metadata": {},
   "outputs": [
    {
     "data": {
      "text/plain": [
       "(98, 16)"
      ]
     },
     "execution_count": 98,
     "metadata": {},
     "output_type": "execute_result"
    }
   ],
   "source": [
    "insurance.shape"
   ]
  },
  {
   "cell_type": "code",
   "execution_count": 99,
   "id": "ff233268",
   "metadata": {},
   "outputs": [
    {
     "data": {
      "text/html": [
       "<div>\n",
       "<style scoped>\n",
       "    .dataframe tbody tr th:only-of-type {\n",
       "        vertical-align: middle;\n",
       "    }\n",
       "\n",
       "    .dataframe tbody tr th {\n",
       "        vertical-align: top;\n",
       "    }\n",
       "\n",
       "    .dataframe thead th {\n",
       "        text-align: right;\n",
       "    }\n",
       "</style>\n",
       "<table border=\"1\" class=\"dataframe\">\n",
       "  <thead>\n",
       "    <tr style=\"text-align: right;\">\n",
       "      <th></th>\n",
       "      <th>Starting Age</th>\n",
       "      <th>Family</th>\n",
       "      <th>Gender</th>\n",
       "      <th>Occupation</th>\n",
       "      <th>Approximate Annual Income</th>\n",
       "      <th>Renewal Tenure</th>\n",
       "      <th>Policy Type</th>\n",
       "      <th>Co_insurer1</th>\n",
       "      <th>Co_insurer2</th>\n",
       "      <th>Co_insurer1OccupationStatus</th>\n",
       "      <th>Co_insurer2OccupationStatus</th>\n",
       "      <th>Premium</th>\n",
       "      <th>Renewed</th>\n",
       "      <th>Churned</th>\n",
       "      <th>Churn_Reason</th>\n",
       "      <th>Company</th>\n",
       "    </tr>\n",
       "    <tr>\n",
       "      <th>Age</th>\n",
       "      <th></th>\n",
       "      <th></th>\n",
       "      <th></th>\n",
       "      <th></th>\n",
       "      <th></th>\n",
       "      <th></th>\n",
       "      <th></th>\n",
       "      <th></th>\n",
       "      <th></th>\n",
       "      <th></th>\n",
       "      <th></th>\n",
       "      <th></th>\n",
       "      <th></th>\n",
       "      <th></th>\n",
       "      <th></th>\n",
       "      <th></th>\n",
       "    </tr>\n",
       "  </thead>\n",
       "  <tbody>\n",
       "    <tr>\n",
       "      <th>56</th>\n",
       "      <td>4</td>\n",
       "      <td>4</td>\n",
       "      <td>Male</td>\n",
       "      <td>Government Office Clerk</td>\n",
       "      <td>900000</td>\n",
       "      <td>1</td>\n",
       "      <td>Single</td>\n",
       "      <td>None</td>\n",
       "      <td>None</td>\n",
       "      <td>Not Applicable</td>\n",
       "      <td>Not Applicable</td>\n",
       "      <td>31000</td>\n",
       "      <td>Yes</td>\n",
       "      <td>No</td>\n",
       "      <td>Not Applicable</td>\n",
       "      <td>The New India Assurance Co. Ltd.</td>\n",
       "    </tr>\n",
       "    <tr>\n",
       "      <th>51</th>\n",
       "      <td>3</td>\n",
       "      <td>4</td>\n",
       "      <td>Male</td>\n",
       "      <td>Government Office Clerk</td>\n",
       "      <td>850000</td>\n",
       "      <td>1</td>\n",
       "      <td>Single</td>\n",
       "      <td>None</td>\n",
       "      <td>None</td>\n",
       "      <td>Not Applicable</td>\n",
       "      <td>Not Applicable</td>\n",
       "      <td>31000</td>\n",
       "      <td>Yes</td>\n",
       "      <td>No</td>\n",
       "      <td>Not Applicable</td>\n",
       "      <td>The New India Assurance Co. Ltd.</td>\n",
       "    </tr>\n",
       "    <tr>\n",
       "      <th>30</th>\n",
       "      <td>20</td>\n",
       "      <td>3</td>\n",
       "      <td>Male</td>\n",
       "      <td>IT Consultant</td>\n",
       "      <td>120000</td>\n",
       "      <td>1</td>\n",
       "      <td>Joint</td>\n",
       "      <td>Wife</td>\n",
       "      <td>None</td>\n",
       "      <td>Working</td>\n",
       "      <td>Not Applicable</td>\n",
       "      <td>31000</td>\n",
       "      <td>Yes</td>\n",
       "      <td>No</td>\n",
       "      <td>Not Applicable</td>\n",
       "      <td>The New India Assurance Co. Ltd.</td>\n",
       "    </tr>\n",
       "    <tr>\n",
       "      <th>26</th>\n",
       "      <td>1</td>\n",
       "      <td>4</td>\n",
       "      <td>Male</td>\n",
       "      <td>IT Consultant</td>\n",
       "      <td>600000</td>\n",
       "      <td>1</td>\n",
       "      <td>Single</td>\n",
       "      <td>None</td>\n",
       "      <td>None</td>\n",
       "      <td>Not Applicable</td>\n",
       "      <td>Not Applicable</td>\n",
       "      <td>18000</td>\n",
       "      <td>Yes</td>\n",
       "      <td>No</td>\n",
       "      <td>Not Applicable</td>\n",
       "      <td>The New India Assurance Co. Ltd.</td>\n",
       "    </tr>\n",
       "    <tr>\n",
       "      <th>21</th>\n",
       "      <td>2</td>\n",
       "      <td>4</td>\n",
       "      <td>Male</td>\n",
       "      <td>IT Consultant</td>\n",
       "      <td>400000</td>\n",
       "      <td>1</td>\n",
       "      <td>Single</td>\n",
       "      <td>None</td>\n",
       "      <td>None</td>\n",
       "      <td>Not Applicable</td>\n",
       "      <td>Not Applicable</td>\n",
       "      <td>18000</td>\n",
       "      <td>Yes</td>\n",
       "      <td>No</td>\n",
       "      <td>Not Applicable</td>\n",
       "      <td>The New India Assurance Co. Ltd.</td>\n",
       "    </tr>\n",
       "  </tbody>\n",
       "</table>\n",
       "</div>"
      ],
      "text/plain": [
       "     Starting Age  Family Gender               Occupation  \\\n",
       "Age                                                         \n",
       "56              4       4   Male  Government Office Clerk   \n",
       "51              3       4   Male  Government Office Clerk   \n",
       "30             20       3   Male            IT Consultant   \n",
       "26              1       4   Male            IT Consultant   \n",
       "21              2       4   Male            IT Consultant   \n",
       "\n",
       "     Approximate Annual Income  Renewal Tenure Policy Type Co_insurer1  \\\n",
       "Age                                                                      \n",
       "56                      900000               1      Single        None   \n",
       "51                      850000               1      Single        None   \n",
       "30                      120000               1       Joint        Wife   \n",
       "26                      600000               1      Single        None   \n",
       "21                      400000               1      Single        None   \n",
       "\n",
       "    Co_insurer2 Co_insurer1OccupationStatus Co_insurer2OccupationStatus  \\\n",
       "Age                                                                       \n",
       "56         None              Not Applicable              Not Applicable   \n",
       "51         None              Not Applicable              Not Applicable   \n",
       "30         None                     Working              Not Applicable   \n",
       "26         None              Not Applicable              Not Applicable   \n",
       "21         None              Not Applicable              Not Applicable   \n",
       "\n",
       "     Premium Renewed Churned    Churn_Reason                           Company  \n",
       "Age                                                                             \n",
       "56     31000     Yes      No  Not Applicable  The New India Assurance Co. Ltd.  \n",
       "51     31000     Yes      No  Not Applicable  The New India Assurance Co. Ltd.  \n",
       "30     31000     Yes      No  Not Applicable  The New India Assurance Co. Ltd.  \n",
       "26     18000     Yes      No  Not Applicable  The New India Assurance Co. Ltd.  \n",
       "21     18000     Yes      No  Not Applicable  The New India Assurance Co. Ltd.  "
      ]
     },
     "execution_count": 99,
     "metadata": {},
     "output_type": "execute_result"
    }
   ],
   "source": [
    "insurance.head()"
   ]
  },
  {
   "cell_type": "code",
   "execution_count": 100,
   "id": "a2fe75a2",
   "metadata": {},
   "outputs": [
    {
     "data": {
      "text/plain": [
       "No     66\n",
       "Yes    32\n",
       "Name: Churned, dtype: int64"
      ]
     },
     "execution_count": 100,
     "metadata": {},
     "output_type": "execute_result"
    }
   ],
   "source": [
    "insurance['Churned'].value_counts()"
   ]
  },
  {
   "cell_type": "code",
   "execution_count": 101,
   "id": "7d8286e5",
   "metadata": {},
   "outputs": [],
   "source": [
    "insurance['Churned'].replace(['No','Yes'],[0, 1], inplace=True)"
   ]
  },
  {
   "cell_type": "markdown",
   "id": "3adb2162",
   "metadata": {},
   "source": [
    "Sample mean, standard error of the mean, and estimating the population mean"
   ]
  },
  {
   "cell_type": "code",
   "execution_count": 102,
   "id": "6b025497",
   "metadata": {},
   "outputs": [
    {
     "data": {
      "image/png": "[encoded data removed]",
      "text/plain": [
       "<Figure size 432x288 with 1 Axes>"
      ]
     },
     "metadata": {
      "needs_background": "light"
     },
     "output_type": "display_data"
    }
   ],
   "source": [
    "x = insurance['Churned'].values\n",
    "x_mean = np.mean(x)\n",
    "plt.hist(x, bins=10)\n",
    "plt.axvline(x_mean, color='orange', label='sample mean: %.2f' % x_mean)\n",
    "plt.xlabel('Churned')\n",
    "plt.ylabel('count')\n",
    "plt.legend(loc=1)\n",
    "plt.show()"
   ]
  },
  {
   "cell_type": "code",
   "execution_count": 103,
   "id": "2c77a7a8",
   "metadata": {},
   "outputs": [],
   "source": [
    "def bootstrap_means(x, n_bootstrap_samples, seed=None):\n",
    "\n",
    "    rng = np.random.RandomState(seed)\n",
    "    sample_means = np.zeros(shape=n_bootstrap_samples)\n",
    "    \n",
    "    for i in range(n_bootstrap_samples):\n",
    "        boot_sample = rng.choice(x, size=x.shape[0], replace=True)\n",
    "        # replicate is a general term for a statistic computed\n",
    "        # from a bootstrap sample\n",
    "        bootstrap_replicate = np.mean(boot_sample)\n",
    "        sample_means[i] = bootstrap_replicate\n",
    "    return sample_means"
   ]
  },
  {
   "cell_type": "code",
   "execution_count": 104,
   "id": "560a3307",
   "metadata": {},
   "outputs": [
    {
     "data": {
      "image/png": "[encoded data removed]",
      "text/plain": [
       "<Figure size 432x288 with 1 Axes>"
      ]
     },
     "metadata": {
      "needs_background": "light"
     },
     "output_type": "display_data"
    }
   ],
   "source": [
    "boot_67 = bootstrap_means(x, n_bootstrap_samples=67, seed=123)\n",
    "\n",
    "boot_mean = np.mean(boot_67)\n",
    "plt.hist(boot_67, bins=10)\n",
    "plt.axvline(boot_mean, color='orange', label='samples mean: %.2f' % boot_mean)\n",
    "plt.xlabel('Churned')\n",
    "plt.ylabel('count')\n",
    "plt.legend(loc=2)\n",
    "plt.show()"
   ]
  },
  {
   "cell_type": "code",
   "execution_count": 105,
   "id": "878b5f87",
   "metadata": {},
   "outputs": [],
   "source": [
    "le=LabelEncoder()"
   ]
  },
  {
   "cell_type": "code",
   "execution_count": 107,
   "id": "48ad5131",
   "metadata": {},
   "outputs": [],
   "source": [
    "insurance['Gender']=le.fit_transform(insurance['Gender'])\n",
    "insurance['Policy Type']=le.fit_transform(insurance['Policy Type'])\n",
    "insurance['Co_insurer1']=le.fit_transform(insurance['Co_insurer1'])\n",
    "insurance['Co_insurer2']=le.fit_transform(insurance['Co_insurer2'])\n",
    "insurance['Co_insurer1OccupationStatus']=le.fit_transform(insurance['Co_insurer1OccupationStatus'])\n",
    "insurance['Co_insurer2OccupationStatus']=le.fit_transform(insurance['Co_insurer2OccupationStatus'])\n",
    "insurance['Renewed']=le.fit_transform(insurance['Renewed'])\n",
    "insurance['Renewed']=le.fit_transform(insurance['Renewed'])\n",
    "insurance=insurance.drop(['Churn_Reason', 'Company'], axis = 1)"
   ]
  },
  {
   "cell_type": "code",
   "execution_count": 108,
   "id": "7b9f40d0",
   "metadata": {},
   "outputs": [],
   "source": [
    "insurance['Occupation']=le.fit_transform(insurance['Occupation'])"
   ]
  },
  {
   "cell_type": "code",
   "execution_count": 109,
   "id": "b92d8870",
   "metadata": {},
   "outputs": [
    {
     "data": {
      "text/html": [
       "<div>\n",
       "<style scoped>\n",
       "    .dataframe tbody tr th:only-of-type {\n",
       "        vertical-align: middle;\n",
       "    }\n",
       "\n",
       "    .dataframe tbody tr th {\n",
       "        vertical-align: top;\n",
       "    }\n",
       "\n",
       "    .dataframe thead th {\n",
       "        text-align: right;\n",
       "    }\n",
       "</style>\n",
       "<table border=\"1\" class=\"dataframe\">\n",
       "  <thead>\n",
       "    <tr style=\"text-align: right;\">\n",
       "      <th></th>\n",
       "      <th>Starting Age</th>\n",
       "      <th>Family</th>\n",
       "      <th>Gender</th>\n",
       "      <th>Occupation</th>\n",
       "      <th>Approximate Annual Income</th>\n",
       "      <th>Renewal Tenure</th>\n",
       "      <th>Policy Type</th>\n",
       "      <th>Co_insurer1</th>\n",
       "      <th>Co_insurer2</th>\n",
       "      <th>Co_insurer1OccupationStatus</th>\n",
       "      <th>Co_insurer2OccupationStatus</th>\n",
       "      <th>Premium</th>\n",
       "      <th>Renewed</th>\n",
       "      <th>Churned</th>\n",
       "    </tr>\n",
       "    <tr>\n",
       "      <th>Age</th>\n",
       "      <th></th>\n",
       "      <th></th>\n",
       "      <th></th>\n",
       "      <th></th>\n",
       "      <th></th>\n",
       "      <th></th>\n",
       "      <th></th>\n",
       "      <th></th>\n",
       "      <th></th>\n",
       "      <th></th>\n",
       "      <th></th>\n",
       "      <th></th>\n",
       "      <th></th>\n",
       "      <th></th>\n",
       "    </tr>\n",
       "  </thead>\n",
       "  <tbody>\n",
       "    <tr>\n",
       "      <th>56</th>\n",
       "      <td>4</td>\n",
       "      <td>4</td>\n",
       "      <td>1</td>\n",
       "      <td>1</td>\n",
       "      <td>900000</td>\n",
       "      <td>1</td>\n",
       "      <td>1</td>\n",
       "      <td>3</td>\n",
       "      <td>0</td>\n",
       "      <td>1</td>\n",
       "      <td>0</td>\n",
       "      <td>31000</td>\n",
       "      <td>1</td>\n",
       "      <td>0</td>\n",
       "    </tr>\n",
       "    <tr>\n",
       "      <th>51</th>\n",
       "      <td>3</td>\n",
       "      <td>4</td>\n",
       "      <td>1</td>\n",
       "      <td>1</td>\n",
       "      <td>850000</td>\n",
       "      <td>1</td>\n",
       "      <td>1</td>\n",
       "      <td>3</td>\n",
       "      <td>0</td>\n",
       "      <td>1</td>\n",
       "      <td>0</td>\n",
       "      <td>31000</td>\n",
       "      <td>1</td>\n",
       "      <td>0</td>\n",
       "    </tr>\n",
       "    <tr>\n",
       "      <th>30</th>\n",
       "      <td>20</td>\n",
       "      <td>3</td>\n",
       "      <td>1</td>\n",
       "      <td>5</td>\n",
       "      <td>120000</td>\n",
       "      <td>1</td>\n",
       "      <td>0</td>\n",
       "      <td>6</td>\n",
       "      <td>0</td>\n",
       "      <td>3</td>\n",
       "      <td>0</td>\n",
       "      <td>31000</td>\n",
       "      <td>1</td>\n",
       "      <td>0</td>\n",
       "    </tr>\n",
       "  </tbody>\n",
       "</table>\n",
       "</div>"
      ],
      "text/plain": [
       "     Starting Age  Family  Gender  Occupation  Approximate Annual Income  \\\n",
       "Age                                                                        \n",
       "56              4       4       1           1                     900000   \n",
       "51              3       4       1           1                     850000   \n",
       "30             20       3       1           5                     120000   \n",
       "\n",
       "     Renewal Tenure  Policy Type  Co_insurer1  Co_insurer2  \\\n",
       "Age                                                          \n",
       "56                1            1            3            0   \n",
       "51                1            1            3            0   \n",
       "30                1            0            6            0   \n",
       "\n",
       "     Co_insurer1OccupationStatus  Co_insurer2OccupationStatus  Premium  \\\n",
       "Age                                                                      \n",
       "56                             1                            0    31000   \n",
       "51                             1                            0    31000   \n",
       "30                             3                            0    31000   \n",
       "\n",
       "     Renewed  Churned  \n",
       "Age                    \n",
       "56         1        0  \n",
       "51         1        0  \n",
       "30         1        0  "
      ]
     },
     "execution_count": 109,
     "metadata": {},
     "output_type": "execute_result"
    }
   ],
   "source": [
    "insurance.head(3)"
   ]
  },
  {
   "cell_type": "code",
   "execution_count": 110,
   "id": "7bd6375d",
   "metadata": {},
   "outputs": [],
   "source": [
    "corr_insurance = insurance.corr()"
   ]
  },
  {
   "cell_type": "code",
   "execution_count": 111,
   "id": "4f957186",
   "metadata": {},
   "outputs": [
    {
     "data": {
      "text/plain": [
       "<AxesSubplot:>"
      ]
     },
     "execution_count": 111,
     "metadata": {},
     "output_type": "execute_result"
    },
    {
     "data": {
      "image/png": "[encoded data removed]",
      "text/plain": [
       "<Figure size 432x288 with 2 Axes>"
      ]
     },
     "metadata": {
      "needs_background": "light"
     },
     "output_type": "display_data"
    }
   ],
   "source": [
    "sns.heatmap(corr_insurance.corr())\n"
   ]
  },
  {
   "cell_type": "code",
   "execution_count": 112,
   "id": "ef5c038c",
   "metadata": {},
   "outputs": [
    {
     "data": {
      "text/plain": [
       "<Figure size 432x288 with 0 Axes>"
      ]
     },
     "metadata": {},
     "output_type": "display_data"
    }
   ],
   "source": [
    "plt.savefig(\"E:/SEM2/1.SUBJECTS/BRM/Insurance_Correlation_HeatMap.jpg\")"
   ]
  },
  {
   "cell_type": "code",
   "execution_count": 113,
   "id": "d07c3bb4",
   "metadata": {},
   "outputs": [
    {
     "name": "stdout",
     "output_type": "stream",
     "text": [
      "                             Starting Age    Family    Gender  Occupation  \\\n",
      "Starting Age                     1.000000 -0.233384 -0.112248    0.003705   \n",
      "Family                          -0.233384  1.000000  0.294735   -0.099183   \n",
      "Gender                          -0.112248  0.294735  1.000000    0.059358   \n",
      "Occupation                       0.003705 -0.099183  0.059358    1.000000   \n",
      "Approximate Annual Income        0.209875  0.029686 -0.000148   -0.677671   \n",
      "Renewal Tenure                        NaN       NaN       NaN         NaN   \n",
      "Policy Type                     -0.468863  0.510408  0.118639   -0.382768   \n",
      "Co_insurer1                      0.204032 -0.453139  0.057826    0.029424   \n",
      "Co_insurer2                           NaN       NaN       NaN         NaN   \n",
      "Co_insurer1OccupationStatus      0.312827  0.096694  0.331741    0.436480   \n",
      "Co_insurer2OccupationStatus           NaN       NaN       NaN         NaN   \n",
      "Premium                          0.250464  0.237713 -0.071249   -0.258278   \n",
      "Renewed                         -0.166536 -0.310960  0.140733   -0.251235   \n",
      "Churned                          0.166536  0.310960 -0.140733    0.251235   \n",
      "\n",
      "                             Approximate Annual Income  Renewal Tenure  \\\n",
      "Starting Age                                  0.209875             NaN   \n",
      "Family                                        0.029686             NaN   \n",
      "Gender                                       -0.000148             NaN   \n",
      "Occupation                                   -0.677671             NaN   \n",
      "Approximate Annual Income                     1.000000             NaN   \n",
      "Renewal Tenure                                     NaN             NaN   \n",
      "Policy Type                                   0.132918             NaN   \n",
      "Co_insurer1                                   0.112056             NaN   \n",
      "Co_insurer2                                        NaN             NaN   \n",
      "Co_insurer1OccupationStatus                  -0.182889             NaN   \n",
      "Co_insurer2OccupationStatus                        NaN             NaN   \n",
      "Premium                                       0.324683             NaN   \n",
      "Renewed                                       0.242720             NaN   \n",
      "Churned                                      -0.242720             NaN   \n",
      "\n",
      "                             Policy Type  Co_insurer1  Co_insurer2  \\\n",
      "Starting Age                   -0.468863     0.204032          NaN   \n",
      "Family                          0.510408    -0.453139          NaN   \n",
      "Gender                          0.118639     0.057826          NaN   \n",
      "Occupation                     -0.382768     0.029424          NaN   \n",
      "Approximate Annual Income       0.132918     0.112056          NaN   \n",
      "Renewal Tenure                       NaN          NaN          NaN   \n",
      "Policy Type                     1.000000    -0.404709          NaN   \n",
      "Co_insurer1                    -0.404709     1.000000          NaN   \n",
      "Co_insurer2                          NaN          NaN          NaN   \n",
      "Co_insurer1OccupationStatus    -0.649677     0.148451          NaN   \n",
      "Co_insurer2OccupationStatus          NaN          NaN          NaN   \n",
      "Premium                         0.380826    -0.055810          NaN   \n",
      "Renewed                         0.057032     0.272702          NaN   \n",
      "Churned                        -0.057032    -0.272702          NaN   \n",
      "\n",
      "                             Co_insurer1OccupationStatus  \\\n",
      "Starting Age                                    0.312827   \n",
      "Family                                          0.096694   \n",
      "Gender                                          0.331741   \n",
      "Occupation                                      0.436480   \n",
      "Approximate Annual Income                      -0.182889   \n",
      "Renewal Tenure                                       NaN   \n",
      "Policy Type                                    -0.649677   \n",
      "Co_insurer1                                     0.148451   \n",
      "Co_insurer2                                          NaN   \n",
      "Co_insurer1OccupationStatus                     1.000000   \n",
      "Co_insurer2OccupationStatus                          NaN   \n",
      "Premium                                        -0.225700   \n",
      "Renewed                                        -0.279472   \n",
      "Churned                                         0.279472   \n",
      "\n",
      "                             Co_insurer2OccupationStatus   Premium   Renewed  \\\n",
      "Starting Age                                         NaN  0.250464 -0.166536   \n",
      "Family                                               NaN  0.237713 -0.310960   \n",
      "Gender                                               NaN -0.071249  0.140733   \n",
      "Occupation                                           NaN -0.258278 -0.251235   \n",
      "Approximate Annual Income                            NaN  0.324683  0.242720   \n",
      "Renewal Tenure                                       NaN       NaN       NaN   \n",
      "Policy Type                                          NaN  0.380826  0.057032   \n",
      "Co_insurer1                                          NaN -0.055810  0.272702   \n",
      "Co_insurer2                                          NaN       NaN       NaN   \n",
      "Co_insurer1OccupationStatus                          NaN -0.225700 -0.279472   \n",
      "Co_insurer2OccupationStatus                          NaN       NaN       NaN   \n",
      "Premium                                              NaN  1.000000 -0.534986   \n",
      "Renewed                                              NaN -0.534986  1.000000   \n",
      "Churned                                              NaN  0.534986 -1.000000   \n",
      "\n",
      "                              Churned  \n",
      "Starting Age                 0.166536  \n",
      "Family                       0.310960  \n",
      "Gender                      -0.140733  \n",
      "Occupation                   0.251235  \n",
      "Approximate Annual Income   -0.242720  \n",
      "Renewal Tenure                    NaN  \n",
      "Policy Type                 -0.057032  \n",
      "Co_insurer1                 -0.272702  \n",
      "Co_insurer2                       NaN  \n",
      "Co_insurer1OccupationStatus  0.279472  \n",
      "Co_insurer2OccupationStatus       NaN  \n",
      "Premium                      0.534986  \n",
      "Renewed                     -1.000000  \n",
      "Churned                      1.000000  \n"
     ]
    },
    {
     "data": {
      "image/png": "[encoded data removed]",
      "text/plain": [
       "<Figure size 432x288 with 196 Axes>"
      ]
     },
     "metadata": {
      "needs_background": "light"
     },
     "output_type": "display_data"
    }
   ],
   "source": [
    "from pandas.plotting import scatter_matrix\n",
    "scatter_matrix(insurance)\n",
    "print(insurance.corr())"
   ]
  },
  {
   "cell_type": "code",
   "execution_count": 114,
   "id": "e8446f2d",
   "metadata": {},
   "outputs": [],
   "source": [
    "insurance['Churned'].replace([0, 1],['No','Yes'], inplace=True)"
   ]
  },
  {
   "cell_type": "code",
   "execution_count": 115,
   "id": "371a6eea",
   "metadata": {},
   "outputs": [
    {
     "data": {
      "text/plain": [
       "No     66\n",
       "Yes    32\n",
       "Name: Churned, dtype: int64"
      ]
     },
     "execution_count": 115,
     "metadata": {},
     "output_type": "execute_result"
    }
   ],
   "source": [
    "insurance.Churned.value_counts()"
   ]
  },
  {
   "cell_type": "code",
   "execution_count": 116,
   "id": "a4f3153c",
   "metadata": {},
   "outputs": [],
   "source": [
    "insurance.Churned=(insurance.Churned).str.strip()"
   ]
  },
  {
   "cell_type": "code",
   "execution_count": 117,
   "id": "0f32c330",
   "metadata": {},
   "outputs": [
    {
     "data": {
      "text/plain": [
       "array(['No', 'Yes'], dtype=object)"
      ]
     },
     "execution_count": 117,
     "metadata": {},
     "output_type": "execute_result"
    }
   ],
   "source": [
    "insurance.Churned.unique()"
   ]
  },
  {
   "cell_type": "code",
   "execution_count": 118,
   "id": "894e9546",
   "metadata": {},
   "outputs": [
    {
     "data": {
      "text/plain": [
       "No     66\n",
       "Yes    32\n",
       "Name: Churned, dtype: int64"
      ]
     },
     "execution_count": 118,
     "metadata": {},
     "output_type": "execute_result"
    }
   ],
   "source": [
    "target_count=insurance.Churned.value_counts()\n",
    "target_count"
   ]
  },
  {
   "cell_type": "code",
   "execution_count": 120,
   "id": "d5b970e6",
   "metadata": {},
   "outputs": [
    {
     "data": {
      "text/plain": [
       "2.0625"
      ]
     },
     "execution_count": 120,
     "metadata": {},
     "output_type": "execute_result"
    }
   ],
   "source": [
    "66/32 #Imbalance ratio"
   ]
  },
  {
   "cell_type": "code",
   "execution_count": 121,
   "id": "5ca60109",
   "metadata": {},
   "outputs": [
    {
     "data": {
      "text/plain": [
       "<AxesSubplot:>"
      ]
     },
     "execution_count": 121,
     "metadata": {},
     "output_type": "execute_result"
    },
    {
     "data": {
      "image/png": "[encoded data removed]",
      "text/plain": [
       "<Figure size 432x288 with 1 Axes>"
      ]
     },
     "metadata": {
      "needs_background": "light"
     },
     "output_type": "display_data"
    }
   ],
   "source": [
    "target_count.plot(kind=\"bar\")"
   ]
  },
  {
   "cell_type": "code",
   "execution_count": 122,
   "id": "a8b2665d",
   "metadata": {},
   "outputs": [],
   "source": [
    "class_0 = insurance[insurance['Churned'] == 'No']\n",
    "class_1 = insurance[insurance['Churned'] == 'Yes']"
   ]
  },
  {
   "cell_type": "code",
   "execution_count": 123,
   "id": "aca4647f",
   "metadata": {},
   "outputs": [],
   "source": [
    "class_1_over = class_1.sample(target_count[0], replace=True)"
   ]
  },
  {
   "cell_type": "code",
   "execution_count": 124,
   "id": "59181a8b",
   "metadata": {},
   "outputs": [
    {
     "data": {
      "text/plain": [
       "(66, 14)"
      ]
     },
     "execution_count": 124,
     "metadata": {},
     "output_type": "execute_result"
    }
   ],
   "source": [
    "class_1_over.shape"
   ]
  },
  {
   "cell_type": "code",
   "execution_count": 125,
   "id": "72c5e94a",
   "metadata": {},
   "outputs": [],
   "source": [
    "newdata=pd.concat([class_1_over, class_0], axis=0)"
   ]
  },
  {
   "cell_type": "code",
   "execution_count": 126,
   "id": "f0744de9",
   "metadata": {},
   "outputs": [
    {
     "data": {
      "text/plain": [
       "(132, 14)"
      ]
     },
     "execution_count": 126,
     "metadata": {},
     "output_type": "execute_result"
    }
   ],
   "source": [
    "newdata.shape"
   ]
  },
  {
   "cell_type": "code",
   "execution_count": 127,
   "id": "655443d8",
   "metadata": {},
   "outputs": [
    {
     "data": {
      "text/plain": [
       "array(['Yes', 'No'], dtype=object)"
      ]
     },
     "execution_count": 127,
     "metadata": {},
     "output_type": "execute_result"
    }
   ],
   "source": [
    "newdata.Churned.unique()"
   ]
  },
  {
   "cell_type": "code",
   "execution_count": 128,
   "id": "829dd97a",
   "metadata": {},
   "outputs": [
    {
     "data": {
      "text/plain": [
       "Yes    66\n",
       "No     66\n",
       "Name: Churned, dtype: int64"
      ]
     },
     "execution_count": 128,
     "metadata": {},
     "output_type": "execute_result"
    }
   ],
   "source": [
    "newdata.Churned.value_counts()"
   ]
  },
  {
   "cell_type": "code",
   "execution_count": 129,
   "id": "a05078b9",
   "metadata": {},
   "outputs": [
    {
     "data": {
      "text/html": [
       "<div>\n",
       "<style scoped>\n",
       "    .dataframe tbody tr th:only-of-type {\n",
       "        vertical-align: middle;\n",
       "    }\n",
       "\n",
       "    .dataframe tbody tr th {\n",
       "        vertical-align: top;\n",
       "    }\n",
       "\n",
       "    .dataframe thead th {\n",
       "        text-align: right;\n",
       "    }\n",
       "</style>\n",
       "<table border=\"1\" class=\"dataframe\">\n",
       "  <thead>\n",
       "    <tr style=\"text-align: right;\">\n",
       "      <th></th>\n",
       "      <th>Starting Age</th>\n",
       "      <th>Family</th>\n",
       "      <th>Gender</th>\n",
       "      <th>Occupation</th>\n",
       "      <th>Approximate Annual Income</th>\n",
       "      <th>Renewal Tenure</th>\n",
       "      <th>Policy Type</th>\n",
       "      <th>Co_insurer1</th>\n",
       "      <th>Co_insurer2</th>\n",
       "      <th>Co_insurer1OccupationStatus</th>\n",
       "      <th>Co_insurer2OccupationStatus</th>\n",
       "      <th>Premium</th>\n",
       "      <th>Renewed</th>\n",
       "      <th>Churned</th>\n",
       "    </tr>\n",
       "    <tr>\n",
       "      <th>Age</th>\n",
       "      <th></th>\n",
       "      <th></th>\n",
       "      <th></th>\n",
       "      <th></th>\n",
       "      <th></th>\n",
       "      <th></th>\n",
       "      <th></th>\n",
       "      <th></th>\n",
       "      <th></th>\n",
       "      <th></th>\n",
       "      <th></th>\n",
       "      <th></th>\n",
       "      <th></th>\n",
       "      <th></th>\n",
       "    </tr>\n",
       "  </thead>\n",
       "  <tbody>\n",
       "    <tr>\n",
       "      <th>54</th>\n",
       "      <td>32</td>\n",
       "      <td>4</td>\n",
       "      <td>1</td>\n",
       "      <td>7</td>\n",
       "      <td>100000</td>\n",
       "      <td>1</td>\n",
       "      <td>0</td>\n",
       "      <td>5</td>\n",
       "      <td>0</td>\n",
       "      <td>3</td>\n",
       "      <td>0</td>\n",
       "      <td>31000</td>\n",
       "      <td>0</td>\n",
       "      <td>Yes</td>\n",
       "    </tr>\n",
       "    <tr>\n",
       "      <th>22</th>\n",
       "      <td>12</td>\n",
       "      <td>4</td>\n",
       "      <td>0</td>\n",
       "      <td>5</td>\n",
       "      <td>1200000</td>\n",
       "      <td>1</td>\n",
       "      <td>0</td>\n",
       "      <td>5</td>\n",
       "      <td>0</td>\n",
       "      <td>3</td>\n",
       "      <td>0</td>\n",
       "      <td>31000</td>\n",
       "      <td>0</td>\n",
       "      <td>Yes</td>\n",
       "    </tr>\n",
       "    <tr>\n",
       "      <th>58</th>\n",
       "      <td>9</td>\n",
       "      <td>4</td>\n",
       "      <td>1</td>\n",
       "      <td>8</td>\n",
       "      <td>900000</td>\n",
       "      <td>1</td>\n",
       "      <td>1</td>\n",
       "      <td>3</td>\n",
       "      <td>0</td>\n",
       "      <td>1</td>\n",
       "      <td>0</td>\n",
       "      <td>190000</td>\n",
       "      <td>0</td>\n",
       "      <td>Yes</td>\n",
       "    </tr>\n",
       "    <tr>\n",
       "      <th>57</th>\n",
       "      <td>31</td>\n",
       "      <td>4</td>\n",
       "      <td>1</td>\n",
       "      <td>7</td>\n",
       "      <td>100000</td>\n",
       "      <td>1</td>\n",
       "      <td>0</td>\n",
       "      <td>5</td>\n",
       "      <td>0</td>\n",
       "      <td>3</td>\n",
       "      <td>0</td>\n",
       "      <td>31000</td>\n",
       "      <td>0</td>\n",
       "      <td>Yes</td>\n",
       "    </tr>\n",
       "    <tr>\n",
       "      <th>54</th>\n",
       "      <td>31</td>\n",
       "      <td>4</td>\n",
       "      <td>1</td>\n",
       "      <td>7</td>\n",
       "      <td>100000</td>\n",
       "      <td>1</td>\n",
       "      <td>0</td>\n",
       "      <td>5</td>\n",
       "      <td>0</td>\n",
       "      <td>3</td>\n",
       "      <td>0</td>\n",
       "      <td>31000</td>\n",
       "      <td>0</td>\n",
       "      <td>Yes</td>\n",
       "    </tr>\n",
       "    <tr>\n",
       "      <th>...</th>\n",
       "      <td>...</td>\n",
       "      <td>...</td>\n",
       "      <td>...</td>\n",
       "      <td>...</td>\n",
       "      <td>...</td>\n",
       "      <td>...</td>\n",
       "      <td>...</td>\n",
       "      <td>...</td>\n",
       "      <td>...</td>\n",
       "      <td>...</td>\n",
       "      <td>...</td>\n",
       "      <td>...</td>\n",
       "      <td>...</td>\n",
       "      <td>...</td>\n",
       "    </tr>\n",
       "    <tr>\n",
       "      <th>30</th>\n",
       "      <td>25</td>\n",
       "      <td>2</td>\n",
       "      <td>0</td>\n",
       "      <td>3</td>\n",
       "      <td>1000000</td>\n",
       "      <td>1</td>\n",
       "      <td>0</td>\n",
       "      <td>5</td>\n",
       "      <td>0</td>\n",
       "      <td>0</td>\n",
       "      <td>0</td>\n",
       "      <td>19000</td>\n",
       "      <td>1</td>\n",
       "      <td>No</td>\n",
       "    </tr>\n",
       "    <tr>\n",
       "      <th>30</th>\n",
       "      <td>8</td>\n",
       "      <td>3</td>\n",
       "      <td>1</td>\n",
       "      <td>0</td>\n",
       "      <td>2000000</td>\n",
       "      <td>1</td>\n",
       "      <td>1</td>\n",
       "      <td>3</td>\n",
       "      <td>0</td>\n",
       "      <td>1</td>\n",
       "      <td>0</td>\n",
       "      <td>31000</td>\n",
       "      <td>1</td>\n",
       "      <td>No</td>\n",
       "    </tr>\n",
       "    <tr>\n",
       "      <th>24</th>\n",
       "      <td>22</td>\n",
       "      <td>2</td>\n",
       "      <td>1</td>\n",
       "      <td>8</td>\n",
       "      <td>500000</td>\n",
       "      <td>1</td>\n",
       "      <td>0</td>\n",
       "      <td>6</td>\n",
       "      <td>0</td>\n",
       "      <td>2</td>\n",
       "      <td>0</td>\n",
       "      <td>19000</td>\n",
       "      <td>1</td>\n",
       "      <td>No</td>\n",
       "    </tr>\n",
       "    <tr>\n",
       "      <th>35</th>\n",
       "      <td>25</td>\n",
       "      <td>2</td>\n",
       "      <td>0</td>\n",
       "      <td>3</td>\n",
       "      <td>1000000</td>\n",
       "      <td>1</td>\n",
       "      <td>0</td>\n",
       "      <td>0</td>\n",
       "      <td>0</td>\n",
       "      <td>0</td>\n",
       "      <td>0</td>\n",
       "      <td>19000</td>\n",
       "      <td>1</td>\n",
       "      <td>No</td>\n",
       "    </tr>\n",
       "    <tr>\n",
       "      <th>32</th>\n",
       "      <td>8</td>\n",
       "      <td>3</td>\n",
       "      <td>1</td>\n",
       "      <td>0</td>\n",
       "      <td>2000000</td>\n",
       "      <td>1</td>\n",
       "      <td>1</td>\n",
       "      <td>3</td>\n",
       "      <td>0</td>\n",
       "      <td>1</td>\n",
       "      <td>0</td>\n",
       "      <td>31000</td>\n",
       "      <td>1</td>\n",
       "      <td>No</td>\n",
       "    </tr>\n",
       "  </tbody>\n",
       "</table>\n",
       "<p>132 rows × 14 columns</p>\n",
       "</div>"
      ],
      "text/plain": [
       "     Starting Age  Family  Gender  Occupation  Approximate Annual Income  \\\n",
       "Age                                                                        \n",
       "54             32       4       1           7                     100000   \n",
       "22             12       4       0           5                    1200000   \n",
       "58              9       4       1           8                     900000   \n",
       "57             31       4       1           7                     100000   \n",
       "54             31       4       1           7                     100000   \n",
       "..            ...     ...     ...         ...                        ...   \n",
       "30             25       2       0           3                    1000000   \n",
       "30              8       3       1           0                    2000000   \n",
       "24             22       2       1           8                     500000   \n",
       "35             25       2       0           3                    1000000   \n",
       "32              8       3       1           0                    2000000   \n",
       "\n",
       "     Renewal Tenure  Policy Type  Co_insurer1  Co_insurer2  \\\n",
       "Age                                                          \n",
       "54                1            0            5            0   \n",
       "22                1            0            5            0   \n",
       "58                1            1            3            0   \n",
       "57                1            0            5            0   \n",
       "54                1            0            5            0   \n",
       "..              ...          ...          ...          ...   \n",
       "30                1            0            5            0   \n",
       "30                1            1            3            0   \n",
       "24                1            0            6            0   \n",
       "35                1            0            0            0   \n",
       "32                1            1            3            0   \n",
       "\n",
       "     Co_insurer1OccupationStatus  Co_insurer2OccupationStatus  Premium  \\\n",
       "Age                                                                      \n",
       "54                             3                            0    31000   \n",
       "22                             3                            0    31000   \n",
       "58                             1                            0   190000   \n",
       "57                             3                            0    31000   \n",
       "54                             3                            0    31000   \n",
       "..                           ...                          ...      ...   \n",
       "30                             0                            0    19000   \n",
       "30                             1                            0    31000   \n",
       "24                             2                            0    19000   \n",
       "35                             0                            0    19000   \n",
       "32                             1                            0    31000   \n",
       "\n",
       "     Renewed Churned  \n",
       "Age                   \n",
       "54         0     Yes  \n",
       "22         0     Yes  \n",
       "58         0     Yes  \n",
       "57         0     Yes  \n",
       "54         0     Yes  \n",
       "..       ...     ...  \n",
       "30         1      No  \n",
       "30         1      No  \n",
       "24         1      No  \n",
       "35         1      No  \n",
       "32         1      No  \n",
       "\n",
       "[132 rows x 14 columns]"
      ]
     },
     "execution_count": 129,
     "metadata": {},
     "output_type": "execute_result"
    }
   ],
   "source": [
    "newdata"
   ]
  },
  {
   "cell_type": "code",
   "execution_count": 130,
   "id": "8ad4030a",
   "metadata": {},
   "outputs": [],
   "source": [
    "newdata.to_excel(\"E:/SEM2/1.SUBJECTS/BRM/Insurance_Classification_Balanced_demo.xlsx\")"
   ]
  },
  {
   "cell_type": "code",
   "execution_count": 131,
   "id": "bf355351",
   "metadata": {},
   "outputs": [],
   "source": [
    "newdata['Churned'].replace(['No','Yes'],[0, 1], inplace=True)"
   ]
  },
  {
   "cell_type": "code",
   "execution_count": 132,
   "id": "eccc0a54",
   "metadata": {},
   "outputs": [
    {
     "name": "stdout",
     "output_type": "stream",
     "text": [
      "<class 'pandas.core.frame.DataFrame'>\n",
      "Int64Index: 132 entries, 54 to 32\n",
      "Data columns (total 14 columns):\n",
      " #   Column                       Non-Null Count  Dtype\n",
      "---  ------                       --------------  -----\n",
      " 0   Starting Age                 132 non-null    int64\n",
      " 1   Family                       132 non-null    int64\n",
      " 2   Gender                       132 non-null    int64\n",
      " 3   Occupation                   132 non-null    int32\n",
      " 4   Approximate Annual Income    132 non-null    int64\n",
      " 5   Renewal Tenure               132 non-null    int64\n",
      " 6   Policy Type                  132 non-null    int64\n",
      " 7   Co_insurer1                  132 non-null    int32\n",
      " 8   Co_insurer2                  132 non-null    int32\n",
      " 9   Co_insurer1OccupationStatus  132 non-null    int32\n",
      " 10  Co_insurer2OccupationStatus  132 non-null    int32\n",
      " 11  Premium                      132 non-null    int64\n",
      " 12  Renewed                      132 non-null    int64\n",
      " 13  Churned                      132 non-null    int64\n",
      "dtypes: int32(5), int64(9)\n",
      "memory usage: 12.9 KB\n"
     ]
    }
   ],
   "source": [
    "newdata.info()"
   ]
  },
  {
   "cell_type": "code",
   "execution_count": 133,
   "id": "8a94e093",
   "metadata": {},
   "outputs": [],
   "source": [
    "newdata['Family']=newdata['Family'].fillna(newdata['Family'].mode().iloc[0])"
   ]
  },
  {
   "cell_type": "code",
   "execution_count": 134,
   "id": "7d7b9fef",
   "metadata": {},
   "outputs": [
    {
     "name": "stdout",
     "output_type": "stream",
     "text": [
      "<class 'pandas.core.frame.DataFrame'>\n",
      "Int64Index: 132 entries, 54 to 32\n",
      "Data columns (total 14 columns):\n",
      " #   Column                       Non-Null Count  Dtype\n",
      "---  ------                       --------------  -----\n",
      " 0   Starting Age                 132 non-null    int64\n",
      " 1   Family                       132 non-null    int64\n",
      " 2   Gender                       132 non-null    int64\n",
      " 3   Occupation                   132 non-null    int32\n",
      " 4   Approximate Annual Income    132 non-null    int64\n",
      " 5   Renewal Tenure               132 non-null    int64\n",
      " 6   Policy Type                  132 non-null    int64\n",
      " 7   Co_insurer1                  132 non-null    int32\n",
      " 8   Co_insurer2                  132 non-null    int32\n",
      " 9   Co_insurer1OccupationStatus  132 non-null    int32\n",
      " 10  Co_insurer2OccupationStatus  132 non-null    int32\n",
      " 11  Premium                      132 non-null    int64\n",
      " 12  Renewed                      132 non-null    int64\n",
      " 13  Churned                      132 non-null    int64\n",
      "dtypes: int32(5), int64(9)\n",
      "memory usage: 12.9 KB\n"
     ]
    }
   ],
   "source": [
    "newdata.info()"
   ]
  },
  {
   "cell_type": "code",
   "execution_count": 137,
   "id": "8f93a3a0",
   "metadata": {},
   "outputs": [
    {
     "data": {
      "text/html": [
       "<div>\n",
       "<style scoped>\n",
       "    .dataframe tbody tr th:only-of-type {\n",
       "        vertical-align: middle;\n",
       "    }\n",
       "\n",
       "    .dataframe tbody tr th {\n",
       "        vertical-align: top;\n",
       "    }\n",
       "\n",
       "    .dataframe thead th {\n",
       "        text-align: right;\n",
       "    }\n",
       "</style>\n",
       "<table border=\"1\" class=\"dataframe\">\n",
       "  <thead>\n",
       "    <tr style=\"text-align: right;\">\n",
       "      <th></th>\n",
       "      <th>Starting Age</th>\n",
       "      <th>Family</th>\n",
       "      <th>Gender</th>\n",
       "      <th>Occupation</th>\n",
       "      <th>Approximate Annual Income</th>\n",
       "      <th>Renewal Tenure</th>\n",
       "      <th>Policy Type</th>\n",
       "      <th>Co_insurer1</th>\n",
       "      <th>Co_insurer2</th>\n",
       "      <th>Co_insurer1OccupationStatus</th>\n",
       "      <th>Co_insurer2OccupationStatus</th>\n",
       "      <th>Premium</th>\n",
       "      <th>Renewed</th>\n",
       "    </tr>\n",
       "    <tr>\n",
       "      <th>Age</th>\n",
       "      <th></th>\n",
       "      <th></th>\n",
       "      <th></th>\n",
       "      <th></th>\n",
       "      <th></th>\n",
       "      <th></th>\n",
       "      <th></th>\n",
       "      <th></th>\n",
       "      <th></th>\n",
       "      <th></th>\n",
       "      <th></th>\n",
       "      <th></th>\n",
       "      <th></th>\n",
       "    </tr>\n",
       "  </thead>\n",
       "  <tbody>\n",
       "    <tr>\n",
       "      <th>54</th>\n",
       "      <td>32</td>\n",
       "      <td>4</td>\n",
       "      <td>1</td>\n",
       "      <td>7</td>\n",
       "      <td>100000</td>\n",
       "      <td>1</td>\n",
       "      <td>0</td>\n",
       "      <td>5</td>\n",
       "      <td>0</td>\n",
       "      <td>3</td>\n",
       "      <td>0</td>\n",
       "      <td>31000</td>\n",
       "      <td>0</td>\n",
       "    </tr>\n",
       "    <tr>\n",
       "      <th>22</th>\n",
       "      <td>12</td>\n",
       "      <td>4</td>\n",
       "      <td>0</td>\n",
       "      <td>5</td>\n",
       "      <td>1200000</td>\n",
       "      <td>1</td>\n",
       "      <td>0</td>\n",
       "      <td>5</td>\n",
       "      <td>0</td>\n",
       "      <td>3</td>\n",
       "      <td>0</td>\n",
       "      <td>31000</td>\n",
       "      <td>0</td>\n",
       "    </tr>\n",
       "    <tr>\n",
       "      <th>58</th>\n",
       "      <td>9</td>\n",
       "      <td>4</td>\n",
       "      <td>1</td>\n",
       "      <td>8</td>\n",
       "      <td>900000</td>\n",
       "      <td>1</td>\n",
       "      <td>1</td>\n",
       "      <td>3</td>\n",
       "      <td>0</td>\n",
       "      <td>1</td>\n",
       "      <td>0</td>\n",
       "      <td>190000</td>\n",
       "      <td>0</td>\n",
       "    </tr>\n",
       "    <tr>\n",
       "      <th>57</th>\n",
       "      <td>31</td>\n",
       "      <td>4</td>\n",
       "      <td>1</td>\n",
       "      <td>7</td>\n",
       "      <td>100000</td>\n",
       "      <td>1</td>\n",
       "      <td>0</td>\n",
       "      <td>5</td>\n",
       "      <td>0</td>\n",
       "      <td>3</td>\n",
       "      <td>0</td>\n",
       "      <td>31000</td>\n",
       "      <td>0</td>\n",
       "    </tr>\n",
       "    <tr>\n",
       "      <th>54</th>\n",
       "      <td>31</td>\n",
       "      <td>4</td>\n",
       "      <td>1</td>\n",
       "      <td>7</td>\n",
       "      <td>100000</td>\n",
       "      <td>1</td>\n",
       "      <td>0</td>\n",
       "      <td>5</td>\n",
       "      <td>0</td>\n",
       "      <td>3</td>\n",
       "      <td>0</td>\n",
       "      <td>31000</td>\n",
       "      <td>0</td>\n",
       "    </tr>\n",
       "    <tr>\n",
       "      <th>57</th>\n",
       "      <td>31</td>\n",
       "      <td>4</td>\n",
       "      <td>1</td>\n",
       "      <td>7</td>\n",
       "      <td>100000</td>\n",
       "      <td>1</td>\n",
       "      <td>0</td>\n",
       "      <td>0</td>\n",
       "      <td>0</td>\n",
       "      <td>3</td>\n",
       "      <td>0</td>\n",
       "      <td>31000</td>\n",
       "      <td>0</td>\n",
       "    </tr>\n",
       "  </tbody>\n",
       "</table>\n",
       "</div>"
      ],
      "text/plain": [
       "     Starting Age  Family  Gender  Occupation  Approximate Annual Income  \\\n",
       "Age                                                                        \n",
       "54             32       4       1           7                     100000   \n",
       "22             12       4       0           5                    1200000   \n",
       "58              9       4       1           8                     900000   \n",
       "57             31       4       1           7                     100000   \n",
       "54             31       4       1           7                     100000   \n",
       "57             31       4       1           7                     100000   \n",
       "\n",
       "     Renewal Tenure  Policy Type  Co_insurer1  Co_insurer2  \\\n",
       "Age                                                          \n",
       "54                1            0            5            0   \n",
       "22                1            0            5            0   \n",
       "58                1            1            3            0   \n",
       "57                1            0            5            0   \n",
       "54                1            0            5            0   \n",
       "57                1            0            0            0   \n",
       "\n",
       "     Co_insurer1OccupationStatus  Co_insurer2OccupationStatus  Premium  \\\n",
       "Age                                                                      \n",
       "54                             3                            0    31000   \n",
       "22                             3                            0    31000   \n",
       "58                             1                            0   190000   \n",
       "57                             3                            0    31000   \n",
       "54                             3                            0    31000   \n",
       "57                             3                            0    31000   \n",
       "\n",
       "     Renewed  \n",
       "Age           \n",
       "54         0  \n",
       "22         0  \n",
       "58         0  \n",
       "57         0  \n",
       "54         0  \n",
       "57         0  "
      ]
     },
     "execution_count": 137,
     "metadata": {},
     "output_type": "execute_result"
    }
   ],
   "source": [
    "Feature = newdata[['Starting Age','Family','Gender','Occupation','Approximate Annual Income','Renewal Tenure','Policy Type','Co_insurer1','Co_insurer2','Co_insurer1OccupationStatus','Co_insurer2OccupationStatus','Premium','Renewed']]\n",
    "Feature.head(6)"
   ]
  },
  {
   "cell_type": "code",
   "execution_count": 138,
   "id": "f8a66c7f",
   "metadata": {},
   "outputs": [],
   "source": [
    "y=newdata[['Churned']]\n",
    "X=Feature\n",
    "X= preprocessing.StandardScaler().fit(X).transform(X)"
   ]
  },
  {
   "cell_type": "code",
   "execution_count": 139,
   "id": "9e18a6fb",
   "metadata": {},
   "outputs": [],
   "source": [
    "from sklearn.neighbors import KNeighborsClassifier\n",
    "from sklearn.model_selection import train_test_split\n",
    "from sklearn import metrics\n",
    "X_train, X_test, y_train, y_test = train_test_split( X, y, test_size=0.2, random_state=4)"
   ]
  },
  {
   "cell_type": "code",
   "execution_count": 140,
   "id": "1aad4d43",
   "metadata": {},
   "outputs": [
    {
     "data": {
      "image/png": "[encoded data removed]",
      "text/plain": [
       "<Figure size 432x288 with 1 Axes>"
      ]
     },
     "metadata": {
      "needs_background": "light"
     },
     "output_type": "display_data"
    }
   ],
   "source": [
    "#y_pred=y_pred.reshape(101,1)\n",
    "mean_acc=np.zeros(50)\n",
    "std_acc = np.zeros(50)\n",
    "for n in range(1,51):\n",
    "    knnmodel=KNeighborsClassifier(n_neighbors=n).fit(X_train,y_train)\n",
    "    y_pred=knnmodel.predict(X_test)\n",
    "    mean_acc[n-1]=metrics.accuracy_score(y_test,y_pred)\n",
    "    std_acc[n-1]=np.std(y_pred)/np.sqrt(y_pred.shape[0])\n",
    "plt.plot(range(1,51),mean_acc,'g')\n",
    "plt.fill_between(range(1,51),mean_acc - 1 * std_acc,mean_acc + 1 * std_acc, alpha=0.10)\n",
    "plt.legend(('Accuracy ', '+/- 3xstd'))\n",
    "plt.ylabel('Accuracy ')\n",
    "plt.xlabel('Number of Nabors (K)')\n",
    "plt.tight_layout()\n",
    "plt.show()\n",
    "    "
   ]
  },
  {
   "cell_type": "code",
   "execution_count": 141,
   "id": "09bdf06c",
   "metadata": {},
   "outputs": [
    {
     "name": "stdout",
     "output_type": "stream",
     "text": [
      "The best accuracy was with 1.0 with k= 1\n"
     ]
    }
   ],
   "source": [
    "print( \"The best accuracy was with\", mean_acc.max(), \"with k=\", mean_acc.argmax()+1) "
   ]
  },
  {
   "cell_type": "code",
   "execution_count": 142,
   "id": "fb45e51d",
   "metadata": {},
   "outputs": [
    {
     "data": {
      "text/plain": [
       "DecisionTreeClassifier(criterion='entropy', max_depth=4)"
      ]
     },
     "execution_count": 142,
     "metadata": {},
     "output_type": "execute_result"
    }
   ],
   "source": [
    "from sklearn.tree import DecisionTreeClassifier\n",
    "dtmodel = DecisionTreeClassifier(criterion=\"entropy\", max_depth = 4)\n",
    "dtmodel.fit(X_train,y_train)"
   ]
  },
  {
   "cell_type": "code",
   "execution_count": 143,
   "id": "13cb296c",
   "metadata": {},
   "outputs": [
    {
     "data": {
      "text/plain": [
       "1.0"
      ]
     },
     "execution_count": 143,
     "metadata": {},
     "output_type": "execute_result"
    }
   ],
   "source": [
    "y_pred=dtmodel.predict(X_test)\n",
    "TreeAccuracy=metrics.accuracy_score(y_test,y_pred)\n",
    "TreeAccuracy"
   ]
  },
  {
   "cell_type": "code",
   "execution_count": 144,
   "id": "8642ed38",
   "metadata": {},
   "outputs": [
    {
     "name": "stdout",
     "output_type": "stream",
     "text": [
      "accuracy on training set: 1.000000\n",
      "accuracy on test set: 1.000000\n"
     ]
    }
   ],
   "source": [
    "tree = DecisionTreeClassifier()\n",
    "tree.fit(X_train, y_train)\n",
    "print(\"accuracy on training set: %f\" % tree.score(X_train, y_train))\n",
    "print(\"accuracy on test set: %f\" % tree.score(X_test, y_test))"
   ]
  },
  {
   "cell_type": "code",
   "execution_count": 145,
   "id": "d251b60e",
   "metadata": {},
   "outputs": [
    {
     "data": {
      "text/plain": [
       "SVC()"
      ]
     },
     "execution_count": 145,
     "metadata": {},
     "output_type": "execute_result"
    }
   ],
   "source": [
    "from sklearn import svm\n",
    "svmmodel=svm.SVC(kernel='rbf')\n",
    "svmmodel.fit(X_train,y_train)"
   ]
  },
  {
   "cell_type": "code",
   "execution_count": 146,
   "id": "1fd2ab9d",
   "metadata": {},
   "outputs": [
    {
     "data": {
      "text/plain": [
       "array([1, 1, 0, 0, 1, 1, 1, 1, 1, 0, 1, 0, 1, 1, 1, 1, 1, 1, 1, 0, 1, 1,\n",
       "       0, 0, 1, 1, 0], dtype=int64)"
      ]
     },
     "execution_count": 146,
     "metadata": {},
     "output_type": "execute_result"
    }
   ],
   "source": [
    "y_pred=svmmodel.predict(X_test)\n",
    "y_pred"
   ]
  },
  {
   "cell_type": "code",
   "execution_count": 147,
   "id": "5c8f0609",
   "metadata": {},
   "outputs": [
    {
     "data": {
      "text/plain": [
       "1.0"
      ]
     },
     "execution_count": 147,
     "metadata": {},
     "output_type": "execute_result"
    }
   ],
   "source": [
    "metrics.accuracy_score(y_test,y_pred)"
   ]
  },
  {
   "cell_type": "code",
   "execution_count": 148,
   "id": "f97da018",
   "metadata": {},
   "outputs": [
    {
     "name": "stdout",
     "output_type": "stream",
     "text": [
      "[1 1 0 0 1 1 1 1 1 0 1 0 1 1 1 1 1 1 1 0 1 1 0 0 1 1 0]\n",
      "[[0.33106009 0.66893991]\n",
      " [0.36021091 0.63978909]\n",
      " [0.65207871 0.34792129]\n",
      " [0.59882347 0.40117653]\n",
      " [0.33683698 0.66316302]\n",
      " [0.39257066 0.60742934]\n",
      " [0.3445081  0.6554919 ]\n",
      " [0.31879182 0.68120818]\n",
      " [0.3592704  0.6407296 ]\n",
      " [0.59882347 0.40117653]\n",
      " [0.3592704  0.6407296 ]\n",
      " [0.65560827 0.34439173]\n",
      " [0.31879182 0.68120818]\n",
      " [0.42370706 0.57629294]\n",
      " [0.3592704  0.6407296 ]\n",
      " [0.3726812  0.6273188 ]\n",
      " [0.32693997 0.67306003]\n",
      " [0.40328743 0.59671257]\n",
      " [0.3592704  0.6407296 ]\n",
      " [0.65207871 0.34792129]\n",
      " [0.31879182 0.68120818]\n",
      " [0.33106009 0.66893991]\n",
      " [0.70535898 0.29464102]\n",
      " [0.65199708 0.34800292]\n",
      " [0.39257066 0.60742934]\n",
      " [0.3592704  0.6407296 ]\n",
      " [0.63633202 0.36366798]]\n",
      "Accuracy= 1.0\n"
     ]
    }
   ],
   "source": [
    "from sklearn.linear_model import LogisticRegression\n",
    "from sklearn.metrics import confusion_matrix\n",
    "lrmodel=LogisticRegression(C=0.01,solver='liblinear').fit(X_train,y_train)\n",
    "y_pred=lrmodel.predict(X_test)\n",
    "print(y_pred)\n",
    "print(lrmodel.predict_proba(X_test))\n",
    "print(\"Accuracy=\",accuracy_score(y_test, y_pred))"
   ]
  },
  {
   "cell_type": "code",
   "execution_count": 149,
   "id": "2c8b8392",
   "metadata": {},
   "outputs": [
    {
     "data": {
      "text/plain": [
       "Churned\n",
       "1          19\n",
       "0           8\n",
       "dtype: int64"
      ]
     },
     "execution_count": 149,
     "metadata": {},
     "output_type": "execute_result"
    }
   ],
   "source": [
    "y_test.value_counts()"
   ]
  },
  {
   "cell_type": "code",
   "execution_count": 150,
   "id": "0077347f",
   "metadata": {},
   "outputs": [
    {
     "data": {
      "text/plain": [
       "2.375"
      ]
     },
     "execution_count": 150,
     "metadata": {},
     "output_type": "execute_result"
    }
   ],
   "source": [
    "19/8 # this is called as NULL accuracy\n"
   ]
  },
  {
   "cell_type": "code",
   "execution_count": 151,
   "id": "8acf7ea5",
   "metadata": {},
   "outputs": [
    {
     "data": {
      "text/plain": [
       "array([0, 1], dtype=int64)"
      ]
     },
     "execution_count": 151,
     "metadata": {},
     "output_type": "execute_result"
    }
   ],
   "source": [
    "lrmodel.classes_ #shows the order of classes \n",
    "#first column is what is probability that it is 0\n",
    "#Second column is what is probability that it is 1"
   ]
  },
  {
   "cell_type": "code",
   "execution_count": 152,
   "id": "d5ec7737",
   "metadata": {},
   "outputs": [
    {
     "data": {
      "text/plain": [
       "array([0.66893991, 0.63978909, 0.34792129, 0.40117653, 0.66316302,\n",
       "       0.60742934, 0.6554919 , 0.68120818, 0.6407296 , 0.40117653,\n",
       "       0.6407296 , 0.34439173, 0.68120818])"
      ]
     },
     "execution_count": 152,
     "metadata": {},
     "output_type": "execute_result"
    }
   ],
   "source": [
    "#now take only positive probabilities and change threshold of positive prediction\n",
    "yprediction_prob = lrmodel.predict_proba(X_test)[:, 1]\n",
    "#display some sample\n",
    "yprediction_prob[0:13]"
   ]
  },
  {
   "cell_type": "code",
   "execution_count": 153,
   "id": "7de93310",
   "metadata": {},
   "outputs": [
    {
     "name": "stdout",
     "output_type": "stream",
     "text": [
      "[[1. 1. 0. 0. 1. 1. 1. 1. 1. 0. 1. 0. 1. 1. 1. 1. 1. 1. 1. 0. 1. 1. 0. 0.\n",
      "  1. 1. 0.]]\n"
     ]
    }
   ],
   "source": [
    "# predict churn if the predicted probability is greater than 0.5\n",
    "from sklearn.preprocessing import binarize\n",
    "yprediction_class = binarize([yprediction_prob],threshold=0.5)\n",
    "print(yprediction_class)"
   ]
  },
  {
   "cell_type": "code",
   "execution_count": 154,
   "id": "2d36c665",
   "metadata": {},
   "outputs": [
    {
     "name": "stdout",
     "output_type": "stream",
     "text": [
      "[1. 1. 0. 0. 1. 1. 1. 1. 1. 0. 1. 0. 1. 1. 1. 1. 1. 1. 1. 0. 1. 1. 0. 0.\n",
      " 1. 1. 0.]\n"
     ]
    }
   ],
   "source": [
    "yprediction_class=yprediction_class[0]\n",
    "print(yprediction_class)"
   ]
  },
  {
   "cell_type": "code",
   "execution_count": 155,
   "id": "743d571d",
   "metadata": {},
   "outputs": [
    {
     "name": "stdout",
     "output_type": "stream",
     "text": [
      "[1 1 0 0 1 1 1 1 1 0 1 0 1 1 1 1 1 1 1 0 1 1 0 0 1 1 0]\n"
     ]
    }
   ],
   "source": [
    "#As origional label values are 'negative' and 'positive' we need to convert it to 0 and 1\n",
    "from sklearn.preprocessing import LabelEncoder\n",
    "label_encoder = LabelEncoder()\n",
    "y_test1=label_encoder.fit_transform(y_test)\n",
    "print(y_test1)"
   ]
  },
  {
   "cell_type": "code",
   "execution_count": 156,
   "id": "fc7fb8d9",
   "metadata": {},
   "outputs": [
    {
     "name": "stdout",
     "output_type": "stream",
     "text": [
      "accuracy with default threshold 0.5= 1.0\n",
      "accuracy with default threshold 0= 1.0\n"
     ]
    }
   ],
   "source": [
    "confusionmatrix1=metrics.confusion_matrix(y_test1, yprediction_class)\n",
    "print(\"accuracy with default threshold 0.5=\",metrics.accuracy_score(y_test1, yprediction_class))\n",
    "#default accuracy\n",
    "print(\"accuracy with default threshold 0=\",metrics.accuracy_score(y_test, yprediction_class))"
   ]
  },
  {
   "cell_type": "code",
   "execution_count": 158,
   "id": "a08ac418",
   "metadata": {},
   "outputs": [
    {
     "name": "stdout",
     "output_type": "stream",
     "text": [
      "1.0\n"
     ]
    }
   ],
   "source": [
    "from sklearn.metrics import roc_auc_score\n",
    "print(roc_auc_score(y_test1, yprediction_prob))#yprediction_prob is probability of instance is positive"
   ]
  },
  {
   "cell_type": "code",
   "execution_count": 159,
   "id": "13bde046",
   "metadata": {},
   "outputs": [
    {
     "name": "stdout",
     "output_type": "stream",
     "text": [
      "Sensitivity: 1.0\n",
      "Specificity: 1.0\n",
      "Sensitivity: 1.0\n",
      "Specificity: 0.75\n",
      "Sensitivity: 1.0\n",
      "Specificity: 0.25\n"
     ]
    }
   ],
   "source": [
    "# define a function that accepts a threshold and prints sensitivity and specificity\n",
    "def evaluate_threshold(threshold):\n",
    "    print('Sensitivity:', tpr[thresholds > threshold][-1])\n",
    "    print('Specificity:', 1 - fpr[thresholds > threshold][-1])\n",
    "    \n",
    "evaluate_threshold(0.5)\n",
    "evaluate_threshold(0.4)\n",
    "evaluate_threshold(0.3)"
   ]
  },
  {
   "cell_type": "code",
   "execution_count": 160,
   "id": "2f630519",
   "metadata": {},
   "outputs": [
    {
     "name": "stdout",
     "output_type": "stream",
     "text": [
      "[[ 8  0]\n",
      " [ 0 19]]\n"
     ]
    }
   ],
   "source": [
    "#confusion Matrix\n",
    "# IMPORTANT: first argument is actual values, second argument is predicted values\n",
    "from sklearn import metrics\n",
    "confusionmatrix=metrics.confusion_matrix(y_test, yprediction_class)\n",
    "print(confusionmatrix)\n",
    "TN=confusionmatrix[0,0]\n",
    "FP=confusionmatrix[0,1]\n",
    "FN=confusionmatrix[1,0]\n",
    "TP=confusionmatrix[1,1]"
   ]
  },
  {
   "cell_type": "code",
   "execution_count": 161,
   "id": "0c3d2403",
   "metadata": {},
   "outputs": [
    {
     "name": "stdout",
     "output_type": "stream",
     "text": [
      "True Positive cases= 19\n",
      "True Negative cases= 8\n",
      "False Positive cases= 0\n",
      "False Negative cases= 0\n",
      "Total positive cases= 19\n",
      "Total negative cases= 8\n"
     ]
    }
   ],
   "source": [
    "print(\"True Positive cases=\",TP)\n",
    "print(\"True Negative cases=\",TN)\n",
    "print(\"False Positive cases=\",FP)\n",
    "print(\"False Negative cases=\",FN)\n",
    "Total_Positive_Cases=FN+TP\n",
    "print(\"Total positive cases=\",Total_Positive_Cases)\n",
    "Total_Negative_Cases=FP+TN\n",
    "print(\"Total negative cases=\",Total_Negative_Cases)"
   ]
  },
  {
   "cell_type": "code",
   "execution_count": 162,
   "id": "84225315",
   "metadata": {},
   "outputs": [
    {
     "name": "stdout",
     "output_type": "stream",
     "text": [
      "accuracy= 1.0\n",
      "accuracy= 1.0\n"
     ]
    }
   ],
   "source": [
    "accuracy=(TP+TN)/(TP+TN+FP+FN)\n",
    "print(\"accuracy=\",accuracy)\n",
    "print(\"accuracy=\",accuracy_score(y_test, yprediction_class))"
   ]
  },
  {
   "cell_type": "code",
   "execution_count": 163,
   "id": "b3ef9f9b",
   "metadata": {},
   "outputs": [
    {
     "name": "stdout",
     "output_type": "stream",
     "text": [
      "sensitivity= 1.0\n"
     ]
    }
   ],
   "source": [
    "#Sensitivity is also called as Recall or True Positive Rate \n",
    "#sensitivity is nothing but out of total positive cases how many  are correctly predicted as positive\n",
    "sensitivity=TP/Total_Positive_Cases\n",
    "print(\"sensitivity=\",sensitivity)\n",
    "#we can get it using inbuilt function as well\n",
    "#print(\"sensitivity=\",metrics.recall_score(y_test, yprediction))#inbuilt function not working"
   ]
  },
  {
   "cell_type": "code",
   "execution_count": 164,
   "id": "3ddfad8a",
   "metadata": {},
   "outputs": [
    {
     "name": "stdout",
     "output_type": "stream",
     "text": [
      "specificity= 1.0\n"
     ]
    }
   ],
   "source": [
    "#specificity is nothing but out of total negative predictions how many are correctly predicted as negative\n",
    "specificity=TN/Total_Negative_Cases\n",
    "print(\"specificity=\",specificity)"
   ]
  },
  {
   "cell_type": "code",
   "execution_count": 165,
   "id": "3ffd6566",
   "metadata": {},
   "outputs": [
    {
     "name": "stdout",
     "output_type": "stream",
     "text": [
      "FPR= 0.0\n"
     ]
    }
   ],
   "source": [
    "#False Positive Rate is nothing but out of total negative cases how many are incorrectly predicted as positive\n",
    "FPR=FP/Total_Negative_Cases\n",
    "print(\"FPR=\", FPR)"
   ]
  },
  {
   "cell_type": "code",
   "execution_count": 166,
   "id": "30d06f64",
   "metadata": {},
   "outputs": [
    {
     "name": "stdout",
     "output_type": "stream",
     "text": [
      "FNR= 0.0\n",
      "0.0\n"
     ]
    }
   ],
   "source": [
    "#False Negative Rate is nothing but out of total positive cases how many are incorrectly predicted as negative\n",
    "FNR=FN/Total_Positive_Cases\n",
    "print(\"FNR=\", FNR)\n",
    "print(1-sensitivity)"
   ]
  },
  {
   "cell_type": "code",
   "execution_count": 167,
   "id": "fd6a4a37",
   "metadata": {},
   "outputs": [
    {
     "name": "stdout",
     "output_type": "stream",
     "text": [
      "precision= 1.0\n"
     ]
    }
   ],
   "source": [
    "#precision is nothing but out of total positive predictions how many are true postive\n",
    "precision=TP/(TP+FP)\n",
    "print(\"precision=\", precision)\n",
    "#print(metrics.precision_score(y_test, yprediction)) #inbuilt function not working"
   ]
  },
  {
   "cell_type": "code",
   "execution_count": 168,
   "id": "eb91c097",
   "metadata": {},
   "outputs": [
    {
     "name": "stdout",
     "output_type": "stream",
     "text": [
      "1.0\n"
     ]
    }
   ],
   "source": [
    "Weighted_TPR_TNR=(sensitivity*(Total_Negative_Cases/(TP+TN+FP+FN)))+(specificity*(Total_Positive_Cases/(TP+TN+FP+FN)))\n",
    "print(Weighted_TPR_TNR)"
   ]
  },
  {
   "cell_type": "code",
   "execution_count": 169,
   "id": "611c1e06",
   "metadata": {},
   "outputs": [],
   "source": [
    "from sklearn.metrics import jaccard_score\n",
    "from sklearn.metrics import f1_score\n",
    "from sklearn.metrics import log_loss"
   ]
  },
  {
   "cell_type": "code",
   "execution_count": 170,
   "id": "c668817e",
   "metadata": {},
   "outputs": [],
   "source": [
    "insurance_test=pd.read_excel(\"E:/SEM2/1.SUBJECTS/BRM/Insurance_Classification_Final_Test_Data.xlsx\",index_col=0)"
   ]
  },
  {
   "cell_type": "code",
   "execution_count": 171,
   "id": "f4535267",
   "metadata": {},
   "outputs": [
    {
     "data": {
      "text/plain": [
       "(18, 14)"
      ]
     },
     "execution_count": 171,
     "metadata": {},
     "output_type": "execute_result"
    }
   ],
   "source": [
    "insurance_test.shape"
   ]
  },
  {
   "cell_type": "code",
   "execution_count": 172,
   "id": "688aabec",
   "metadata": {},
   "outputs": [],
   "source": [
    "insurance_test['Churned'].replace(['No','Yes'],[0, 1], inplace=True)"
   ]
  },
  {
   "cell_type": "code",
   "execution_count": 173,
   "id": "f7b39e27",
   "metadata": {},
   "outputs": [
    {
     "name": "stdout",
     "output_type": "stream",
     "text": [
      "<class 'pandas.core.frame.DataFrame'>\n",
      "Int64Index: 18 entries, 81 to 64\n",
      "Data columns (total 14 columns):\n",
      " #   Column                       Non-Null Count  Dtype\n",
      "---  ------                       --------------  -----\n",
      " 0   Starting Age                 18 non-null     int64\n",
      " 1   Family                       18 non-null     int64\n",
      " 2   Gender                       18 non-null     int64\n",
      " 3   Occupation                   18 non-null     int64\n",
      " 4   Approximate Annual Income    18 non-null     int64\n",
      " 5   Renewal Tenure               18 non-null     int64\n",
      " 6   Policy Type                  18 non-null     int64\n",
      " 7   Policy With1                 18 non-null     int64\n",
      " 8   Policy With2                 18 non-null     int64\n",
      " 9   PolicyWith1OccupationStatus  18 non-null     int64\n",
      " 10  PolicyWith2OccupationStatus  18 non-null     int64\n",
      " 11  Premium                      18 non-null     int64\n",
      " 12  Renewed                      18 non-null     int64\n",
      " 13  Churned                      18 non-null     int64\n",
      "dtypes: int64(14)\n",
      "memory usage: 2.1 KB\n"
     ]
    }
   ],
   "source": [
    "insurance_test.info()"
   ]
  },
  {
   "cell_type": "code",
   "execution_count": 174,
   "id": "f62f5a4c",
   "metadata": {},
   "outputs": [],
   "source": [
    "insurance_final_prediction=insurance_test\n",
    "insurance_x=insurance_final_prediction.drop(['Churned'], axis = 1)"
   ]
  },
  {
   "cell_type": "code",
   "execution_count": 175,
   "id": "3808f6a1",
   "metadata": {},
   "outputs": [],
   "source": [
    "insurance_x=insurance_x.to_numpy(dtype='int', na_value=-1)"
   ]
  },
  {
   "cell_type": "code",
   "execution_count": 176,
   "id": "42f3b250",
   "metadata": {},
   "outputs": [],
   "source": [
    "insurance_y=insurance_test['Churned']"
   ]
  },
  {
   "cell_type": "code",
   "execution_count": 177,
   "id": "b1137e99",
   "metadata": {},
   "outputs": [],
   "source": [
    "insurance_y=insurance_y.to_numpy(dtype='int', na_value=-1)"
   ]
  },
  {
   "cell_type": "code",
   "execution_count": 196,
   "id": "3ac1d391",
   "metadata": {},
   "outputs": [
    {
     "name": "stdout",
     "output_type": "stream",
     "text": [
      "[1 1 1 1 1 1 1 1 1 1 0 1 0 0 0 0 0 0]\n",
      "[[6.71966360e-03 9.93280336e-01]\n",
      " [3.11421115e-02 9.68857889e-01]\n",
      " [2.88364192e-01 7.11635808e-01]\n",
      " [6.71966360e-03 9.93280336e-01]\n",
      " [3.30956190e-01 6.69043810e-01]\n",
      " [2.88364192e-01 7.11635808e-01]\n",
      " [3.40928855e-01 6.59071145e-01]\n",
      " [2.88364192e-01 7.11635808e-01]\n",
      " [3.40928855e-01 6.59071145e-01]\n",
      " [6.24335802e-02 9.37566420e-01]\n",
      " [9.89085836e-01 1.09141639e-02]\n",
      " [3.72565134e-01 6.27434866e-01]\n",
      " [9.66103301e-01 3.38966985e-02]\n",
      " [8.77877995e-01 1.22122005e-01]\n",
      " [7.60131054e-01 2.39868946e-01]\n",
      " [8.14702483e-01 1.85297517e-01]\n",
      " [8.14712737e-01 1.85287263e-01]\n",
      " [9.99999278e-01 7.21867719e-07]]\n",
      "Accuracy= 0.8888888888888888\n"
     ]
    }
   ],
   "source": [
    "from sklearn.linear_model import LogisticRegression\n",
    "from sklearn.metrics import confusion_matrix\n",
    "lrmodel=LogisticRegression(C=0.01,solver='liblinear').fit(insurance_x,insurance_y)\n",
    "y_pred=lrmodel.predict(insurance_x)\n",
    "print(y_pred)\n",
    "print(lrmodel.predict_proba(insurance_x))\n",
    "print(\"Accuracy=\",accuracy_score(insurance_y, y_pred))\n"
   ]
  },
  {
   "cell_type": "code",
   "execution_count": 197,
   "id": "993e81b3",
   "metadata": {},
   "outputs": [
    {
     "data": {
      "text/plain": [
       "array([9.93280336e-01, 9.68857889e-01, 7.11635808e-01, 9.93280336e-01,\n",
       "       6.69043810e-01, 7.11635808e-01, 6.59071145e-01, 7.11635808e-01,\n",
       "       6.59071145e-01, 9.37566420e-01, 1.09141639e-02, 6.27434866e-01,\n",
       "       3.38966985e-02, 1.22122005e-01, 2.39868946e-01, 1.85297517e-01,\n",
       "       1.85287263e-01, 7.21867719e-07])"
      ]
     },
     "execution_count": 197,
     "metadata": {},
     "output_type": "execute_result"
    }
   ],
   "source": [
    "#now take only positive probabilities and change threshold of positive prediction\n",
    "yprediction_prob = lrmodel.predict_proba(insurance_x)[:, 1]\n",
    "#display some sample\n",
    "yprediction_prob[0:18]"
   ]
  },
  {
   "cell_type": "code",
   "execution_count": 198,
   "id": "0ad6c27d",
   "metadata": {},
   "outputs": [],
   "source": [
    "# predict churn if the predicted probability is greater than 0.5\n",
    "from sklearn.preprocessing import binarize\n",
    "yprediction_class = binarize([yprediction_prob],threshold=0.5)\n",
    "yprediction_class=yprediction_class[0]"
   ]
  },
  {
   "cell_type": "code",
   "execution_count": 200,
   "id": "ff15b372",
   "metadata": {},
   "outputs": [
    {
     "name": "stdout",
     "output_type": "stream",
     "text": [
      "[[7 2]\n",
      " [0 9]]\n"
     ]
    }
   ],
   "source": [
    "#confusion Matrix\n",
    "# IMPORTANT: first argument is actual values, second argument is predicted values\n",
    "from sklearn import metrics\n",
    "confusionmatrix=metrics.confusion_matrix(insurance_y, yprediction_class)\n",
    "print(confusionmatrix)\n",
    "TN=confusionmatrix[0,0]\n",
    "FP=confusionmatrix[0,1]\n",
    "FN=confusionmatrix[1,0]\n",
    "TP=confusionmatrix[1,1]"
   ]
  },
  {
   "cell_type": "code",
   "execution_count": 192,
   "id": "bc668275",
   "metadata": {},
   "outputs": [],
   "source": [
    "y_pred_knn=knnmodel.predict(insurance_x)\n",
    "y_pred_dt=dtmodel.predict(insurance_x)\n",
    "y_pred_svm=svmmodel.predict(insurance_x)\n",
    "y_pred_lr=lrmodel.predict(insurance_x)\n",
    "y_pred_lr_proba=lrmodel.predict_proba(insurance_x)\n",
    "y_pred_nb=gnb.predict(insurance_x)\n",
    "y_pred_rf=final_classifier.predict(insurance_x)"
   ]
  },
  {
   "cell_type": "code",
   "execution_count": 193,
   "id": "8c373606",
   "metadata": {},
   "outputs": [
    {
     "name": "stdout",
     "output_type": "stream",
     "text": [
      "0.9\n",
      "1.0\n",
      "0.6666666666666666\n",
      "0.0\n",
      "0.0\n",
      "1.0\n"
     ]
    }
   ],
   "source": [
    "print(f1_score(insurance_y,y_pred_knn))\n",
    "print(f1_score(insurance_y,y_pred_dt))\n",
    "print(f1_score(insurance_y,y_pred_svm))\n",
    "print(f1_score(insurance_y,y_pred_lr))\n",
    "print(f1_score(insurance_y,y_pred_nb))\n",
    "print(f1_score(insurance_y,y_pred_rf))"
   ]
  },
  {
   "cell_type": "code",
   "execution_count": 194,
   "id": "33aa583a",
   "metadata": {},
   "outputs": [
    {
     "name": "stdout",
     "output_type": "stream",
     "text": [
      "0.8181818181818182\n",
      "1.0\n",
      "0.5\n",
      "0.0\n",
      "0.0\n",
      "1.0\n"
     ]
    }
   ],
   "source": [
    "print(jaccard_score(insurance_y,y_pred_knn))\n",
    "print(jaccard_score(insurance_y,y_pred_dt))\n",
    "print(jaccard_score(insurance_y,y_pred_svm))\n",
    "print(jaccard_score(insurance_y,y_pred_lr))\n",
    "print(jaccard_score(insurance_y,y_pred_nb))\n",
    "print(jaccard_score(insurance_y,y_pred_rf))"
   ]
  },
  {
   "cell_type": "code",
   "execution_count": 180,
   "id": "d49fcf97",
   "metadata": {},
   "outputs": [
    {
     "data": {
      "text/plain": [
       "17.269388197455342"
      ]
     },
     "execution_count": 180,
     "metadata": {},
     "output_type": "execute_result"
    }
   ],
   "source": [
    "LR_log_loss=log_loss(insurance_y,y_pred_lr_proba)\n",
    "LR_log_loss"
   ]
  },
  {
   "cell_type": "code",
   "execution_count": 181,
   "id": "eaa4c205",
   "metadata": {},
   "outputs": [],
   "source": [
    "#Import Gaussian Naive Bayes model\n",
    "from sklearn.naive_bayes import GaussianNB\n",
    "\n",
    "#Create a Gaussian Classifier\n",
    "gnb = GaussianNB()\n",
    "\n",
    "#Train the model using the training sets\n",
    "gnb.fit(X_train, y_train)\n",
    "\n",
    "#Predict the response for test dataset\n",
    "y_pred = gnb.predict(insurance_x)"
   ]
  },
  {
   "cell_type": "code",
   "execution_count": 182,
   "id": "c4799a67",
   "metadata": {},
   "outputs": [
    {
     "name": "stdout",
     "output_type": "stream",
     "text": [
      "Accuracy: 0.5\n"
     ]
    }
   ],
   "source": [
    "#Import scikit-learn metrics module for accuracy calculation\n",
    "from sklearn import metrics\n",
    "\n",
    "# Model Accuracy, how often is the classifier correct?\n",
    "print(\"Accuracy:\",metrics.accuracy_score(insurance_y, y_pred))"
   ]
  },
  {
   "cell_type": "code",
   "execution_count": 183,
   "id": "25474aaa",
   "metadata": {},
   "outputs": [
    {
     "name": "stdout",
     "output_type": "stream",
     "text": [
      "              precision    recall  f1-score   support\n",
      "\n",
      "     Churned       1.00      1.00      1.00         8\n",
      "         Yes       1.00      1.00      1.00        19\n",
      "\n",
      "    accuracy                           1.00        27\n",
      "   macro avg       1.00      1.00      1.00        27\n",
      "weighted avg       1.00      1.00      1.00        27\n",
      "\n"
     ]
    }
   ],
   "source": [
    "from sklearn.metrics import accuracy_score\n",
    "from sklearn.metrics import classification_report\n",
    "from sklearn.metrics import confusion_matrix\n",
    "from sklearn.svm import SVC\n",
    "Log_svc= SVC(C= 1)\n",
    "model_svc=lrmodel.fit(X_train,y_train)\n",
    "pred_test_svc=model_svc.predict(X_test)\n",
    "print(classification_report(y_true=y_test,y_pred=pred_test_svc,target_names=['Churned','Yes']))"
   ]
  },
  {
   "cell_type": "code",
   "execution_count": 184,
   "id": "de05315c",
   "metadata": {},
   "outputs": [
    {
     "name": "stdout",
     "output_type": "stream",
     "text": [
      "              precision    recall  f1-score   support\n",
      "\n",
      "           0       1.00      1.00      1.00         8\n",
      "           1       1.00      1.00      1.00        19\n",
      "\n",
      "    accuracy                           1.00        27\n",
      "   macro avg       1.00      1.00      1.00        27\n",
      "weighted avg       1.00      1.00      1.00        27\n",
      "\n"
     ]
    }
   ],
   "source": [
    "from sklearn.ensemble import RandomForestClassifier\n",
    "from sklearn.model_selection import GridSearchCV\n",
    "\n",
    "estimator = RandomForestClassifier()\n",
    "param_grid = {'n_estimators':[100,200], 'max_depth':[5,7,10]}\n",
    "gridSearch = GridSearchCV(estimator=estimator,param_grid=param_grid,scoring='f1',cv=5,return_train_score=True,n_jobs=-1)\n",
    "gridSearch.fit(X_train,y_train)\n",
    "gridSearch.best_estimator_\n",
    "\n",
    "cv_results = pd.DataFrame(gridSearch.cv_results_)[['param_n_estimators','param_max_depth','mean_train_score','mean_test_score']]\n",
    "cv_results\n",
    "\n",
    "final_classifier = gridSearch.best_estimator_\n",
    "final_classifier.fit(X_train, y_train)\n",
    "y_train_pred = final_classifier.predict(X_train)\n",
    "y_test_predicted = final_classifier.predict(X_test)\n",
    "print(classification_report(y_test,y_test_predicted))"
   ]
  },
  {
   "cell_type": "code",
   "execution_count": 185,
   "id": "a65c6a8b",
   "metadata": {},
   "outputs": [
    {
     "name": "stdout",
     "output_type": "stream",
     "text": [
      "1.0\n",
      "              precision    recall  f1-score   support\n",
      "\n",
      "           0       1.00      1.00      1.00         8\n",
      "           1       1.00      1.00      1.00        19\n",
      "\n",
      "    accuracy                           1.00        27\n",
      "   macro avg       1.00      1.00      1.00        27\n",
      "weighted avg       1.00      1.00      1.00        27\n",
      "\n"
     ]
    }
   ],
   "source": [
    "from sklearn.tree import DecisionTreeClassifier\n",
    "from sklearn.model_selection import GridSearchCV\n",
    "from sklearn.metrics import roc_auc_score, roc_curve\n",
    "\n",
    "def find_best_threshold(fpr, tpr, thresholds):\n",
    "  max_metric = 0\n",
    "  best_threshold = thresholds[0]\n",
    "  for i,threshold in enumerate(thresholds):\n",
    "    metric = tpr[i]*(1-fpr[i])\n",
    "    if(metric>max_metric):\n",
    "      max_metric = metric\n",
    "      best_threshold = threshold\n",
    "  return best_threshold\n",
    "\n",
    "estimator = DecisionTreeClassifier()\n",
    "param_grid = {'max_depth':[10,15,18]}\n",
    "gridSearch = GridSearchCV(estimator=estimator,param_grid=param_grid,scoring='f1',cv=5,return_train_score=True,n_jobs=-1)\n",
    "gridSearch.fit(X_train,y_train)\n",
    "gridSearch.best_estimator_\n",
    "\n",
    "cv_results = pd.DataFrame(gridSearch.cv_results_)\n",
    "cv_results = cv_results[['param_max_depth','mean_train_score','mean_test_score']]\n",
    "cv_results\n",
    "\n",
    "final_classifier = DecisionTreeClassifier(max_depth=18)\n",
    "final_classifier.fit(X_train,y_train)\n",
    "y_train_pred = final_classifier.predict(X_train)\n",
    "fpr, tpr, thresholds = roc_curve(y_train, y_train_pred)\n",
    "best_threshold = find_best_threshold(fpr, tpr, thresholds)\n",
    "\n",
    "best_threshold\n",
    "\n",
    "y_test_predicted=final_classifier.predict(X_test)\n",
    "test_score = roc_auc_score(y_test,y_test_predicted)\n",
    "print(test_score)\n",
    "print(classification_report(y_test,y_test_predicted))"
   ]
  },
  {
   "cell_type": "code",
   "execution_count": null,
   "id": "e24fdd14",
   "metadata": {},
   "outputs": [],
   "source": []
  }
 ],
 "metadata": {
  "kernelspec": {
   "display_name": "Python 3 (ipykernel)",
   "language": "python",
   "name": "python3"
  },
  "language_info": {
   "codemirror_mode": {
    "name": "ipython",
    "version": 3
   },
   "file_extension": ".py",
   "mimetype": "text/x-python",
   "name": "python",
   "nbconvert_exporter": "python",
   "pygments_lexer": "ipython3",
   "version": "3.9.7"
  }
 },
 "nbformat": 4,
 "nbformat_minor": 5
}
